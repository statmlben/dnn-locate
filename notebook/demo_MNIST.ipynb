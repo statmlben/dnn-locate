{
 "cells": [
  {
   "cell_type": "code",
   "execution_count": 2,
   "metadata": {},
   "outputs": [],
   "source": [
    "from keras.datasets import mnist\n",
    "from keras.optimizers import Adam, SGD\n",
    "from keras.callbacks import EarlyStopping, ReduceLROnPlateau\n",
    "\n",
    "from dnn_locate import Dnn_Locate\n",
    "import matplotlib.pyplot as plt\n",
    "import numpy as np\n",
    "import tensorflow as tf"
   ]
  },
  {
   "cell_type": "code",
   "execution_count": 3,
   "metadata": {},
   "outputs": [],
   "source": [
    "## load data\n",
    "np.random.seed(3)\n",
    "tf.random.set_seed(3)\n",
    "\n",
    "input_shape, labels = (28, 28, 1), 10\n",
    "\n",
    "## load data\n",
    "(X_train, y_train), (X_test, y_test) = mnist.load_data()\n",
    "X_train = X_train / 255.\n",
    "X_test = X_test / 255.\n",
    "\n",
    "ind_set = np.array([i for i in range(len(y_train)) if y_train[i] in [7, 9]])\n",
    "ind_set_test = np.array([i for i in range(len(y_test)) if y_test[i] in [7, 9]])\n",
    "\n",
    "X_train, y_train = X_train[ind_set], y_train[ind_set]\n",
    "X_test, y_test = X_test[ind_set_test], y_test[ind_set_test]\n",
    "\n",
    "X_train = np.expand_dims(X_train, axis=3)\n",
    "X_test = np.expand_dims(X_test, axis=3)"
   ]
  },
  {
   "cell_type": "code",
   "execution_count": null,
   "metadata": {},
   "outputs": [],
   "source": [
    "## define models\n",
    "from keras import initializers\n",
    "from keras.models import Sequential, Model\n",
    "from keras.layers import UpSampling2D, Conv2D\n",
    "from keras.layers import Input, Dense, Reshape, Flatten, Dropout, Add, Multiply, Conv2DTranspose\n",
    "from keras.layers import BatchNormalization, Activation, ZeroPadding2D, MaxPooling2D, GlobalAveragePooling2D\n",
    "\n",
    "initializer = initializers.glorot_uniform(seed=0)\n",
    "\n",
    "## define the detector before TRELU activation\n",
    "detector = Sequential()\n",
    "detector.add(Conv2D(32, (2,2),\n",
    "\tpadding=\"same\",\n",
    "\tinput_shape=input_shape,\n",
    "\tkernel_initializer=initializer, \n",
    "\tbias_initializer=initializer))\n",
    "detector.add(Flatten())\n",
    "detector.add(Dense(128, activation='relu', \n",
    "\tkernel_initializer=initializer, \n",
    "\tbias_initializer=initializer))\n",
    "detector.add(Dense(128, activation='relu',\n",
    "\tkernel_initializer=initializer, \n",
    "\tbias_initializer=initializer))\n",
    "detector.add(Dense(np.prod(input_shape), \n",
    "\tactivation ='softmax',\n",
    "\tkernel_initializer=initializer,\n",
    "\tbias_initializer=initializer))\n",
    "detector.add(Reshape(input_shape))\n",
    "\n",
    "## define discriminator\n",
    "discriminator = Sequential()\n",
    "discriminator.add(Conv2D(32, (3, 3),\n",
    "\t\tactivation='relu', name='last_conv',\n",
    "\t\tkernel_initializer=initializer,\n",
    "\t\tbias_initializer=initializer,\n",
    "\t\tkernel_regularizer=tf.keras.regularizers.l1(0.001),\n",
    "\t\tbias_regularizer=tf.keras.regularizers.l1(0.001),\n",
    "\t\tinput_shape=input_shape))\n",
    "discriminator.add(MaxPooling2D((2, 2)))\n",
    "discriminator.add(Flatten())\n",
    "discriminator.add(Dense(100, activation='relu',\n",
    "\tkernel_regularizer=tf.keras.regularizers.l1(0.001),\n",
    "\tbias_regularizer=tf.keras.regularizers.l1(0.001),\n",
    "\tkernel_initializer=initializer))\n",
    "discriminator.add(Dense(labels, activation='softmax',\n",
    "\tkernel_initializer=initializer,\n",
    "\tkernel_regularizer=tf.keras.regularizers.l1(0.001),\n",
    "\tbias_regularizer=tf.keras.regularizers.l1(0.001),\n",
    "\tbias_initializer=initializer))\n",
    "discriminator.compile(loss='sparse_categorical_crossentropy', \n",
    "\t\t\t\t\t\toptimizer=Adam(lr=0.001),\n",
    "\t\t\t\t\t\tmetrics=['accuracy'])"
   ]
  },
  {
   "cell_type": "code",
   "execution_count": null,
   "metadata": {},
   "outputs": [],
   "source": [
    "## define framework\n",
    "tau_range = [4., 6., 8., 10., 12., 14., 16., ]\n",
    "shiing = Dnn_Locate(input_shape=input_shape,\n",
    "\t\t\t\tdiscriminator=discriminator,\n",
    "\t\t\t\ttau_range=tau_range,\n",
    "\t\t\t\ttask='classification')\n",
    "\n",
    "es_detect1 = ReduceLROnPlateau(monitor=\"loss\", factor=0.382, min_lr=.0001,\n",
    "\t\t\t\t\tverbose=1, patience=5, mode=\"min\")\n",
    "es_detect2 = EarlyStopping(monitor='loss', mode='min', min_delta=.0001, \n",
    "\t\t\t\t\t\tverbose=1, patience=15, restore_best_weights=True)\n",
    "es_learn = EarlyStopping(monitor='val_accuracy', mode='max', \n",
    "\t\t\t\t\t\tverbose=1, patience=10, restore_best_weights=True)"
   ]
  },
  {
   "cell_type": "code",
   "execution_count": null,
   "metadata": {},
   "outputs": [],
   "source": [
    "print('###'*20)\n",
    "print('###'*5+' '*6+'Load learner'+' '*5+'###'*5)\n",
    "print('###'*20)\n",
    "\n",
    "# learn_tmp = shiing.discriminator.fit(x=X_train, y=y_train, callbacks=[es_learn], epochs=50, batch_size=128, validation_split=.2)\n",
    "# shiing.discriminator.save_weights(\"./saved_model/model1107.h5\")\n",
    "# shiing.discriminator.load_weights(\"./saved_model/model1107.h5\")\n",
    "shiing.discriminator.load_weights(\"../tests/saved_model/model1119.h5\")\n",
    "# shiing.discriminator.load_weights(\"./saved_model/model1126.h5\")\n",
    "\n",
    "print('###'*20)\n",
    "print('#'*16+' '*5+'Train detector'+' '*5+'#'*16)\n",
    "print('###'*20)\n",
    "\n",
    "## fit detector for a range of tau\n",
    "fit_params={'callbacks': [es_detect1, es_detect2], \n",
    "\t\t\t'epochs': 1000, 'batch_size': 64}\n",
    "\n",
    "shiing.fit(X_train=X_train, y_train=y_train, detector=detector, \n",
    "\t\t\toptimizer=SGD(lr=1.), fit_params=fit_params)"
   ]
  },
  {
   "cell_type": "code",
   "execution_count": null,
   "metadata": {},
   "outputs": [],
   "source": [
    "## Visualize the results \n",
    "shiing.R_sqaure_path()\n",
    "shiing.path_plot()\n",
    "shiing.DA_plot(X=X_test, y=y_test)"
   ]
  }
 ],
 "metadata": {
  "kernelspec": {
   "display_name": ".shiing",
   "language": "python",
   "name": ".shiing"
  },
  "language_info": {
   "codemirror_mode": {
    "name": "ipython",
    "version": 3
   },
   "file_extension": ".py",
   "mimetype": "text/x-python",
   "name": "python",
   "nbconvert_exporter": "python",
   "pygments_lexer": "ipython3",
   "version": "3.8.5"
  }
 },
 "nbformat": 4,
 "nbformat_minor": 4
}
