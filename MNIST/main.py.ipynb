{
 "cells": [
  {
   "cell_type": "code",
   "execution_count": 3,
   "metadata": {},
   "outputs": [
    {
     "ename": "ModuleNotFoundError",
     "evalue": "No module named 'keras'",
     "output_type": "error",
     "traceback": [
      "\u001b[0;31m---------------------------------------------------------------------------\u001b[0m",
      "\u001b[0;31mModuleNotFoundError\u001b[0m                       Traceback (most recent call last)",
      "\u001b[0;32m<ipython-input-3-9f464d6a6fa7>\u001b[0m in \u001b[0;36m<module>\u001b[0;34m\u001b[0m\n\u001b[1;32m      2\u001b[0m \u001b[0;34m\u001b[0m\u001b[0m\n\u001b[1;32m      3\u001b[0m \u001b[0;31m## load packages\u001b[0m\u001b[0;34m\u001b[0m\u001b[0;34m\u001b[0m\u001b[0;34m\u001b[0m\u001b[0m\n\u001b[0;32m----> 4\u001b[0;31m \u001b[0;32mfrom\u001b[0m \u001b[0mkeras\u001b[0m\u001b[0;34m.\u001b[0m\u001b[0mdatasets\u001b[0m \u001b[0;32mimport\u001b[0m \u001b[0mmnist\u001b[0m\u001b[0;34m\u001b[0m\u001b[0;34m\u001b[0m\u001b[0m\n\u001b[0m\u001b[1;32m      5\u001b[0m \u001b[0;32mfrom\u001b[0m \u001b[0mkeras\u001b[0m\u001b[0;34m.\u001b[0m\u001b[0mlayers\u001b[0m \u001b[0;32mimport\u001b[0m \u001b[0mInput\u001b[0m\u001b[0;34m,\u001b[0m \u001b[0mDense\u001b[0m\u001b[0;34m,\u001b[0m \u001b[0mReshape\u001b[0m\u001b[0;34m,\u001b[0m \u001b[0mFlatten\u001b[0m\u001b[0;34m,\u001b[0m \u001b[0mDropout\u001b[0m\u001b[0;34m,\u001b[0m \u001b[0mAdd\u001b[0m\u001b[0;34m\u001b[0m\u001b[0;34m\u001b[0m\u001b[0m\n\u001b[1;32m      6\u001b[0m \u001b[0;32mfrom\u001b[0m \u001b[0mkeras\u001b[0m\u001b[0;34m.\u001b[0m\u001b[0mlayers\u001b[0m \u001b[0;32mimport\u001b[0m \u001b[0mBatchNormalization\u001b[0m\u001b[0;34m,\u001b[0m \u001b[0mActivation\u001b[0m\u001b[0;34m,\u001b[0m \u001b[0mZeroPadding2D\u001b[0m\u001b[0;34m,\u001b[0m \u001b[0mMaxPooling2D\u001b[0m\u001b[0;34m\u001b[0m\u001b[0;34m\u001b[0m\u001b[0m\n",
      "\u001b[0;31mModuleNotFoundError\u001b[0m: No module named 'keras'"
     ]
    }
   ],
   "source": [
    "import sys\n",
    "\n",
    "## load packages\n",
    "from keras.datasets import mnist\n",
    "from keras.layers import Input, Dense, Reshape, Flatten, Dropout, Add\n",
    "from keras.layers import BatchNormalization, Activation, ZeroPadding2D, MaxPooling2D\n",
    "from keras.layers.advanced_activations import LeakyReLU\n",
    "from keras.layers.convolutional import UpSampling2D, Conv2D\n",
    "from keras.models import Sequential, Model\n",
    "from keras.optimizers import Adam\n",
    "from keras.callbacks import EarlyStopping\n",
    "\n",
    "import matplotlib.pyplot as plt\n",
    "import sys\n",
    "import numpy as np\n",
    "from dnn_locate import LocalGAN"
   ]
  },
  {
   "cell_type": "code",
   "execution_count": null,
   "metadata": {},
   "outputs": [],
   "source": [
    "## load data\n",
    "input_shape, labels = (28, 28, 1), 10\n",
    "\n",
    "method = 'mask'\n",
    "## load data\n",
    "(X_train, y_train), (_, _) = mnist.load_data()\n",
    "\n",
    "if method == 'mask':\n",
    "\tX_train = X_train / 255.\n",
    "else:\n",
    "\tX_train = X_train / 127.5 - 1.\n",
    "\n",
    "ind_set = np.array([i for i in range(len(y_train)) if y_train[i] in [7, 9]])\n",
    "X_train, y_train = X_train[ind_set], y_train[ind_set]\n",
    "X_train = np.expand_dims(X_train, axis=3)"
   ]
  },
  {
   "cell_type": "code",
   "execution_count": null,
   "metadata": {},
   "outputs": [],
   "source": [
    "## show images\n",
    "fig = plt.figure(figsize = (10,10))\n",
    "ax1 = fig.add_subplot(1,2,1)\n",
    "ax1.imshow(X_train[0,:,:,0])\n",
    "\n",
    "ax2 = fig.add_subplot(1,2,2)\n",
    "ax2.imshow(X_train[1,:,:,0])"
   ]
  },
  {
   "cell_type": "code",
   "execution_count": null,
   "metadata": {
    "scrolled": false
   },
   "outputs": [],
   "source": [
    "## define the proposed model\n",
    "elk = LocalGAN(img_shape=input_shape, labels=labels, lam=.01, method=method)\n",
    "epochs = 5\n",
    "es_detect = EarlyStopping(monitor='loss', mode='min', verbose=1, patience=5, restore_best_weights=True)\n",
    "es_learn = EarlyStopping(monitor='val_accuracy', mode='max', verbose=1, patience=5, restore_best_weights=True)\n",
    "\n",
    "learner_weights = elk.discriminator.get_weights()"
   ]
  },
  {
   "cell_type": "code",
   "execution_count": null,
   "metadata": {
    "scrolled": false
   },
   "outputs": [],
   "source": [
    "print('###'*20)\n",
    "print('###'*5+' '*5+'Train for learner'+' '*5+'###'*5)\n",
    "print('###'*20)\n",
    "\n",
    "# \telk.discriminator.set_weights(learner_weights)\n",
    "learn_tmp = elk.discriminator.fit(x=X_train, y=y_train, callbacks=[es_learn], epochs=20, batch_size=128, validation_split=.2)\n",
    "\n",
    "\n",
    "print('###'*20)\n",
    "print('#'*16+' '*5+'Train for detector'+' '*5+'#'*16)\n",
    "print('###'*20)\n",
    "# elk.detector.load_weights(\"model.h5\")\n",
    "\n",
    "detect_tmp = elk.combined.fit(x=X_train, y=y_train, callbacks=[es_detect], epochs=500, batch_size=128, validation_split=.2)\n",
    "X_noise = elk.detector.predict(X_train)\n"
   ]
  },
  {
   "cell_type": "code",
   "execution_count": null,
   "metadata": {},
   "outputs": [],
   "source": [
    "## show the results\n",
    "X_tmp = X_train[:100].copy()\n",
    "X_noise = elk.detector.predict(X_tmp)\n",
    "\n",
    "print('##'*5 + ' original image ' + '##'*5 + ' remaining image ' + '##'*5 + ' detect region ' + '##'*5)\n",
    "\n",
    "## show the plot for image 9\n",
    "fig = plt.figure(figsize = (10,10))\n",
    "ax1 = fig.add_subplot(1,3,1)\n",
    "ax1.imshow(X_train[0,:,:,0])\n",
    "\n",
    "ax3 = fig.add_subplot(1,3,3)\n",
    "ax3.imshow(np.nan_to_num( (-X_noise[0,:,:,0] + X_train[0,:,:,0]) / X_train[0,:,:,0]))\n",
    "\n",
    "ax2 = fig.add_subplot(1,3,2)\n",
    "ax2.imshow(X_noise[0,:,:,0])\n",
    "\n",
    "## show the plot for image 7\n",
    "fig = plt.figure(figsize = (10,10))\n",
    "ax1 = fig.add_subplot(1,3,1)\n",
    "ax1.imshow(X_train[1,:,:,0])\n",
    "\n",
    "ax3 = fig.add_subplot(1,3,3)\n",
    "ax3.imshow(np.nan_to_num( (-X_noise[1,:,:,0] + X_train[1,:,:,0]) / X_train[1,:,:,0]))\n",
    "\n",
    "ax2 = fig.add_subplot(1,3,2)\n",
    "ax2.imshow(X_noise[1,:,:,0])\n"
   ]
  },
  {
   "cell_type": "code",
   "execution_count": null,
   "metadata": {},
   "outputs": [],
   "source": [
    "## compute the total mount of the proporion\n",
    "np.sum(np.nan_to_num( (X_train[0,:,:,0] - X_noise[0,:,:,0]) / X_train[0,:,:,0]))"
   ]
  }
 ],
 "metadata": {
  "kernelspec": {
   "display_name": "Python 3",
   "language": "python",
   "name": "python3"
  },
  "language_info": {
   "codemirror_mode": {
    "name": "ipython",
    "version": 3
   },
   "file_extension": ".py",
   "mimetype": "text/x-python",
   "name": "python",
   "nbconvert_exporter": "python",
   "pygments_lexer": "ipython3",
   "version": "3.8.5"
  }
 },
 "nbformat": 4,
 "nbformat_minor": 4
}
